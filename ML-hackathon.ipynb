{
 "cells": [
  {
   "cell_type": "markdown",
   "metadata": {},
   "source": [
    "# Our job is to predict amount of loan should be sanctioned to a customer based on given features"
   ]
  },
  {
   "cell_type": "code",
   "execution_count": 242,
   "metadata": {},
   "outputs": [],
   "source": [
    "import pandas as pd"
   ]
  },
  {
   "cell_type": "code",
   "execution_count": 243,
   "metadata": {},
   "outputs": [],
   "source": [
    "df=pd.read_csv('dataset/train.csv')"
   ]
  },
  {
   "cell_type": "code",
   "execution_count": 244,
   "metadata": {},
   "outputs": [
    {
     "data": {
      "text/html": [
       "<div>\n",
       "<style scoped>\n",
       "    .dataframe tbody tr th:only-of-type {\n",
       "        vertical-align: middle;\n",
       "    }\n",
       "\n",
       "    .dataframe tbody tr th {\n",
       "        vertical-align: top;\n",
       "    }\n",
       "\n",
       "    .dataframe thead th {\n",
       "        text-align: right;\n",
       "    }\n",
       "</style>\n",
       "<table border=\"1\" class=\"dataframe\">\n",
       "  <thead>\n",
       "    <tr style=\"text-align: right;\">\n",
       "      <th></th>\n",
       "      <th>Customer ID</th>\n",
       "      <th>Name</th>\n",
       "      <th>Gender</th>\n",
       "      <th>Age</th>\n",
       "      <th>Income (USD)</th>\n",
       "      <th>Income Stability</th>\n",
       "      <th>Profession</th>\n",
       "      <th>Type of Employment</th>\n",
       "      <th>Location</th>\n",
       "      <th>Loan Amount Request (USD)</th>\n",
       "      <th>...</th>\n",
       "      <th>Credit Score</th>\n",
       "      <th>No. of Defaults</th>\n",
       "      <th>Has Active Credit Card</th>\n",
       "      <th>Property ID</th>\n",
       "      <th>Property Age</th>\n",
       "      <th>Property Type</th>\n",
       "      <th>Property Location</th>\n",
       "      <th>Co-Applicant</th>\n",
       "      <th>Property Price</th>\n",
       "      <th>Loan Sanction Amount (USD)</th>\n",
       "    </tr>\n",
       "  </thead>\n",
       "  <tbody>\n",
       "    <tr>\n",
       "      <th>0</th>\n",
       "      <td>C-36995</td>\n",
       "      <td>Frederica Shealy</td>\n",
       "      <td>F</td>\n",
       "      <td>56</td>\n",
       "      <td>1933.05</td>\n",
       "      <td>Low</td>\n",
       "      <td>Working</td>\n",
       "      <td>Sales staff</td>\n",
       "      <td>Semi-Urban</td>\n",
       "      <td>72809.58</td>\n",
       "      <td>...</td>\n",
       "      <td>809.44</td>\n",
       "      <td>0</td>\n",
       "      <td>NaN</td>\n",
       "      <td>746</td>\n",
       "      <td>1933.05</td>\n",
       "      <td>4</td>\n",
       "      <td>Rural</td>\n",
       "      <td>1</td>\n",
       "      <td>119933.46</td>\n",
       "      <td>54607.18</td>\n",
       "    </tr>\n",
       "    <tr>\n",
       "      <th>1</th>\n",
       "      <td>C-33999</td>\n",
       "      <td>America Calderone</td>\n",
       "      <td>M</td>\n",
       "      <td>32</td>\n",
       "      <td>4952.91</td>\n",
       "      <td>Low</td>\n",
       "      <td>Working</td>\n",
       "      <td>NaN</td>\n",
       "      <td>Semi-Urban</td>\n",
       "      <td>46837.47</td>\n",
       "      <td>...</td>\n",
       "      <td>780.40</td>\n",
       "      <td>0</td>\n",
       "      <td>Unpossessed</td>\n",
       "      <td>608</td>\n",
       "      <td>4952.91</td>\n",
       "      <td>2</td>\n",
       "      <td>Rural</td>\n",
       "      <td>1</td>\n",
       "      <td>54791.00</td>\n",
       "      <td>37469.98</td>\n",
       "    </tr>\n",
       "    <tr>\n",
       "      <th>2</th>\n",
       "      <td>C-3770</td>\n",
       "      <td>Rosetta Verne</td>\n",
       "      <td>F</td>\n",
       "      <td>65</td>\n",
       "      <td>988.19</td>\n",
       "      <td>High</td>\n",
       "      <td>Pensioner</td>\n",
       "      <td>NaN</td>\n",
       "      <td>Semi-Urban</td>\n",
       "      <td>45593.04</td>\n",
       "      <td>...</td>\n",
       "      <td>833.15</td>\n",
       "      <td>0</td>\n",
       "      <td>Unpossessed</td>\n",
       "      <td>546</td>\n",
       "      <td>988.19</td>\n",
       "      <td>2</td>\n",
       "      <td>Urban</td>\n",
       "      <td>0</td>\n",
       "      <td>72440.58</td>\n",
       "      <td>36474.43</td>\n",
       "    </tr>\n",
       "    <tr>\n",
       "      <th>3</th>\n",
       "      <td>C-26480</td>\n",
       "      <td>Zoe Chitty</td>\n",
       "      <td>F</td>\n",
       "      <td>65</td>\n",
       "      <td>NaN</td>\n",
       "      <td>High</td>\n",
       "      <td>Pensioner</td>\n",
       "      <td>NaN</td>\n",
       "      <td>Rural</td>\n",
       "      <td>80057.92</td>\n",
       "      <td>...</td>\n",
       "      <td>832.70</td>\n",
       "      <td>1</td>\n",
       "      <td>Unpossessed</td>\n",
       "      <td>890</td>\n",
       "      <td>NaN</td>\n",
       "      <td>2</td>\n",
       "      <td>Semi-Urban</td>\n",
       "      <td>1</td>\n",
       "      <td>121441.51</td>\n",
       "      <td>56040.54</td>\n",
       "    </tr>\n",
       "    <tr>\n",
       "      <th>4</th>\n",
       "      <td>C-23459</td>\n",
       "      <td>Afton Venema</td>\n",
       "      <td>F</td>\n",
       "      <td>31</td>\n",
       "      <td>2614.77</td>\n",
       "      <td>Low</td>\n",
       "      <td>Working</td>\n",
       "      <td>High skill tech staff</td>\n",
       "      <td>Semi-Urban</td>\n",
       "      <td>113858.89</td>\n",
       "      <td>...</td>\n",
       "      <td>745.55</td>\n",
       "      <td>1</td>\n",
       "      <td>Active</td>\n",
       "      <td>715</td>\n",
       "      <td>2614.77</td>\n",
       "      <td>4</td>\n",
       "      <td>Semi-Urban</td>\n",
       "      <td>1</td>\n",
       "      <td>208567.91</td>\n",
       "      <td>74008.28</td>\n",
       "    </tr>\n",
       "  </tbody>\n",
       "</table>\n",
       "<p>5 rows × 24 columns</p>\n",
       "</div>"
      ],
      "text/plain": [
       "  Customer ID               Name Gender  Age  Income (USD) Income Stability  \\\n",
       "0     C-36995   Frederica Shealy      F   56       1933.05              Low   \n",
       "1     C-33999  America Calderone      M   32       4952.91              Low   \n",
       "2      C-3770      Rosetta Verne      F   65        988.19             High   \n",
       "3     C-26480         Zoe Chitty      F   65           NaN             High   \n",
       "4     C-23459       Afton Venema      F   31       2614.77              Low   \n",
       "\n",
       "  Profession     Type of Employment    Location  Loan Amount Request (USD)  \\\n",
       "0    Working            Sales staff  Semi-Urban                   72809.58   \n",
       "1    Working                    NaN  Semi-Urban                   46837.47   \n",
       "2  Pensioner                    NaN  Semi-Urban                   45593.04   \n",
       "3  Pensioner                    NaN       Rural                   80057.92   \n",
       "4    Working  High skill tech staff  Semi-Urban                  113858.89   \n",
       "\n",
       "   ...  Credit Score No. of Defaults Has Active Credit Card  Property ID  \\\n",
       "0  ...        809.44               0                    NaN          746   \n",
       "1  ...        780.40               0            Unpossessed          608   \n",
       "2  ...        833.15               0            Unpossessed          546   \n",
       "3  ...        832.70               1            Unpossessed          890   \n",
       "4  ...        745.55               1                 Active          715   \n",
       "\n",
       "   Property Age  Property Type Property Location  Co-Applicant  \\\n",
       "0       1933.05              4             Rural             1   \n",
       "1       4952.91              2             Rural             1   \n",
       "2        988.19              2             Urban             0   \n",
       "3           NaN              2        Semi-Urban             1   \n",
       "4       2614.77              4        Semi-Urban             1   \n",
       "\n",
       "   Property Price  Loan Sanction Amount (USD)  \n",
       "0       119933.46                    54607.18  \n",
       "1        54791.00                    37469.98  \n",
       "2        72440.58                    36474.43  \n",
       "3       121441.51                    56040.54  \n",
       "4       208567.91                    74008.28  \n",
       "\n",
       "[5 rows x 24 columns]"
      ]
     },
     "execution_count": 244,
     "metadata": {},
     "output_type": "execute_result"
    }
   ],
   "source": [
    "df.head()"
   ]
  },
  {
   "cell_type": "code",
   "execution_count": 245,
   "metadata": {},
   "outputs": [
    {
     "data": {
      "text/plain": [
       "Index(['Customer ID', 'Name', 'Gender', 'Age', 'Income (USD)',\n",
       "       'Income Stability', 'Profession', 'Type of Employment', 'Location',\n",
       "       'Loan Amount Request (USD)', 'Current Loan Expenses (USD)',\n",
       "       'Expense Type 1', 'Expense Type 2', 'Dependents', 'Credit Score',\n",
       "       'No. of Defaults', 'Has Active Credit Card', 'Property ID',\n",
       "       'Property Age', 'Property Type', 'Property Location', 'Co-Applicant',\n",
       "       'Property Price', 'Loan Sanction Amount (USD)'],\n",
       "      dtype='object')"
      ]
     },
     "execution_count": 245,
     "metadata": {},
     "output_type": "execute_result"
    }
   ],
   "source": [
    "df.columns"
   ]
  },
  {
   "cell_type": "code",
   "execution_count": 246,
   "metadata": {},
   "outputs": [
    {
     "data": {
      "text/html": [
       "<div>\n",
       "<style scoped>\n",
       "    .dataframe tbody tr th:only-of-type {\n",
       "        vertical-align: middle;\n",
       "    }\n",
       "\n",
       "    .dataframe tbody tr th {\n",
       "        vertical-align: top;\n",
       "    }\n",
       "\n",
       "    .dataframe thead th {\n",
       "        text-align: right;\n",
       "    }\n",
       "</style>\n",
       "<table border=\"1\" class=\"dataframe\">\n",
       "  <thead>\n",
       "    <tr style=\"text-align: right;\">\n",
       "      <th></th>\n",
       "      <th>Customer ID</th>\n",
       "      <th>Name</th>\n",
       "      <th>Gender</th>\n",
       "      <th>Age</th>\n",
       "      <th>Income (USD)</th>\n",
       "      <th>Income Stability</th>\n",
       "      <th>Profession</th>\n",
       "      <th>Type of Employment</th>\n",
       "      <th>Location</th>\n",
       "      <th>Loan Amount Request (USD)</th>\n",
       "      <th>...</th>\n",
       "      <th>Credit Score</th>\n",
       "      <th>No. of Defaults</th>\n",
       "      <th>Has Active Credit Card</th>\n",
       "      <th>Property ID</th>\n",
       "      <th>Property Age</th>\n",
       "      <th>Property Type</th>\n",
       "      <th>Property Location</th>\n",
       "      <th>Co-Applicant</th>\n",
       "      <th>Property Price</th>\n",
       "      <th>Loan Sanction Amount (USD)</th>\n",
       "    </tr>\n",
       "  </thead>\n",
       "  <tbody>\n",
       "    <tr>\n",
       "      <th>count</th>\n",
       "      <td>30000</td>\n",
       "      <td>30000</td>\n",
       "      <td>29947</td>\n",
       "      <td>30000.000000</td>\n",
       "      <td>2.542400e+04</td>\n",
       "      <td>28317</td>\n",
       "      <td>30000</td>\n",
       "      <td>22730</td>\n",
       "      <td>30000</td>\n",
       "      <td>30000.000000</td>\n",
       "      <td>...</td>\n",
       "      <td>28297.000000</td>\n",
       "      <td>30000.000000</td>\n",
       "      <td>28434</td>\n",
       "      <td>30000.000000</td>\n",
       "      <td>2.515000e+04</td>\n",
       "      <td>30000.000000</td>\n",
       "      <td>29644</td>\n",
       "      <td>30000.000000</td>\n",
       "      <td>3.000000e+04</td>\n",
       "      <td>29660.000000</td>\n",
       "    </tr>\n",
       "    <tr>\n",
       "      <th>unique</th>\n",
       "      <td>30000</td>\n",
       "      <td>30000</td>\n",
       "      <td>2</td>\n",
       "      <td>NaN</td>\n",
       "      <td>NaN</td>\n",
       "      <td>2</td>\n",
       "      <td>8</td>\n",
       "      <td>18</td>\n",
       "      <td>3</td>\n",
       "      <td>NaN</td>\n",
       "      <td>...</td>\n",
       "      <td>NaN</td>\n",
       "      <td>NaN</td>\n",
       "      <td>3</td>\n",
       "      <td>NaN</td>\n",
       "      <td>NaN</td>\n",
       "      <td>NaN</td>\n",
       "      <td>3</td>\n",
       "      <td>NaN</td>\n",
       "      <td>NaN</td>\n",
       "      <td>NaN</td>\n",
       "    </tr>\n",
       "    <tr>\n",
       "      <th>top</th>\n",
       "      <td>C-3438</td>\n",
       "      <td>Yang Mcentire</td>\n",
       "      <td>M</td>\n",
       "      <td>NaN</td>\n",
       "      <td>NaN</td>\n",
       "      <td>Low</td>\n",
       "      <td>Working</td>\n",
       "      <td>Laborers</td>\n",
       "      <td>Semi-Urban</td>\n",
       "      <td>NaN</td>\n",
       "      <td>...</td>\n",
       "      <td>NaN</td>\n",
       "      <td>NaN</td>\n",
       "      <td>Active</td>\n",
       "      <td>NaN</td>\n",
       "      <td>NaN</td>\n",
       "      <td>NaN</td>\n",
       "      <td>Semi-Urban</td>\n",
       "      <td>NaN</td>\n",
       "      <td>NaN</td>\n",
       "      <td>NaN</td>\n",
       "    </tr>\n",
       "    <tr>\n",
       "      <th>freq</th>\n",
       "      <td>1</td>\n",
       "      <td>1</td>\n",
       "      <td>15053</td>\n",
       "      <td>NaN</td>\n",
       "      <td>NaN</td>\n",
       "      <td>25751</td>\n",
       "      <td>16926</td>\n",
       "      <td>5578</td>\n",
       "      <td>21563</td>\n",
       "      <td>NaN</td>\n",
       "      <td>...</td>\n",
       "      <td>NaN</td>\n",
       "      <td>NaN</td>\n",
       "      <td>9771</td>\n",
       "      <td>NaN</td>\n",
       "      <td>NaN</td>\n",
       "      <td>NaN</td>\n",
       "      <td>10387</td>\n",
       "      <td>NaN</td>\n",
       "      <td>NaN</td>\n",
       "      <td>NaN</td>\n",
       "    </tr>\n",
       "    <tr>\n",
       "      <th>mean</th>\n",
       "      <td>NaN</td>\n",
       "      <td>NaN</td>\n",
       "      <td>NaN</td>\n",
       "      <td>40.092300</td>\n",
       "      <td>2.630574e+03</td>\n",
       "      <td>NaN</td>\n",
       "      <td>NaN</td>\n",
       "      <td>NaN</td>\n",
       "      <td>NaN</td>\n",
       "      <td>88826.333855</td>\n",
       "      <td>...</td>\n",
       "      <td>739.885381</td>\n",
       "      <td>0.193933</td>\n",
       "      <td>NaN</td>\n",
       "      <td>501.934700</td>\n",
       "      <td>2.631119e+03</td>\n",
       "      <td>2.460067</td>\n",
       "      <td>NaN</td>\n",
       "      <td>-4.743867</td>\n",
       "      <td>1.317597e+05</td>\n",
       "      <td>47649.342208</td>\n",
       "    </tr>\n",
       "    <tr>\n",
       "      <th>std</th>\n",
       "      <td>NaN</td>\n",
       "      <td>NaN</td>\n",
       "      <td>NaN</td>\n",
       "      <td>16.045129</td>\n",
       "      <td>1.126272e+04</td>\n",
       "      <td>NaN</td>\n",
       "      <td>NaN</td>\n",
       "      <td>NaN</td>\n",
       "      <td>NaN</td>\n",
       "      <td>59536.949605</td>\n",
       "      <td>...</td>\n",
       "      <td>72.163846</td>\n",
       "      <td>0.395384</td>\n",
       "      <td>NaN</td>\n",
       "      <td>288.158086</td>\n",
       "      <td>1.132268e+04</td>\n",
       "      <td>1.118562</td>\n",
       "      <td>NaN</td>\n",
       "      <td>74.614593</td>\n",
       "      <td>9.354955e+04</td>\n",
       "      <td>48221.146686</td>\n",
       "    </tr>\n",
       "    <tr>\n",
       "      <th>min</th>\n",
       "      <td>NaN</td>\n",
       "      <td>NaN</td>\n",
       "      <td>NaN</td>\n",
       "      <td>18.000000</td>\n",
       "      <td>3.777000e+02</td>\n",
       "      <td>NaN</td>\n",
       "      <td>NaN</td>\n",
       "      <td>NaN</td>\n",
       "      <td>NaN</td>\n",
       "      <td>6048.240000</td>\n",
       "      <td>...</td>\n",
       "      <td>580.000000</td>\n",
       "      <td>0.000000</td>\n",
       "      <td>NaN</td>\n",
       "      <td>1.000000</td>\n",
       "      <td>3.777000e+02</td>\n",
       "      <td>1.000000</td>\n",
       "      <td>NaN</td>\n",
       "      <td>-999.000000</td>\n",
       "      <td>-9.990000e+02</td>\n",
       "      <td>-999.000000</td>\n",
       "    </tr>\n",
       "    <tr>\n",
       "      <th>25%</th>\n",
       "      <td>NaN</td>\n",
       "      <td>NaN</td>\n",
       "      <td>NaN</td>\n",
       "      <td>25.000000</td>\n",
       "      <td>1.650457e+03</td>\n",
       "      <td>NaN</td>\n",
       "      <td>NaN</td>\n",
       "      <td>NaN</td>\n",
       "      <td>NaN</td>\n",
       "      <td>41177.755000</td>\n",
       "      <td>...</td>\n",
       "      <td>681.880000</td>\n",
       "      <td>0.000000</td>\n",
       "      <td>NaN</td>\n",
       "      <td>251.000000</td>\n",
       "      <td>1.650450e+03</td>\n",
       "      <td>1.000000</td>\n",
       "      <td>NaN</td>\n",
       "      <td>1.000000</td>\n",
       "      <td>6.057216e+04</td>\n",
       "      <td>0.000000</td>\n",
       "    </tr>\n",
       "    <tr>\n",
       "      <th>50%</th>\n",
       "      <td>NaN</td>\n",
       "      <td>NaN</td>\n",
       "      <td>NaN</td>\n",
       "      <td>40.000000</td>\n",
       "      <td>2.222435e+03</td>\n",
       "      <td>NaN</td>\n",
       "      <td>NaN</td>\n",
       "      <td>NaN</td>\n",
       "      <td>NaN</td>\n",
       "      <td>75128.075000</td>\n",
       "      <td>...</td>\n",
       "      <td>739.820000</td>\n",
       "      <td>0.000000</td>\n",
       "      <td>NaN</td>\n",
       "      <td>504.000000</td>\n",
       "      <td>2.223250e+03</td>\n",
       "      <td>2.000000</td>\n",
       "      <td>NaN</td>\n",
       "      <td>1.000000</td>\n",
       "      <td>1.099936e+05</td>\n",
       "      <td>35209.395000</td>\n",
       "    </tr>\n",
       "    <tr>\n",
       "      <th>75%</th>\n",
       "      <td>NaN</td>\n",
       "      <td>NaN</td>\n",
       "      <td>NaN</td>\n",
       "      <td>55.000000</td>\n",
       "      <td>3.090593e+03</td>\n",
       "      <td>NaN</td>\n",
       "      <td>NaN</td>\n",
       "      <td>NaN</td>\n",
       "      <td>NaN</td>\n",
       "      <td>119964.605000</td>\n",
       "      <td>...</td>\n",
       "      <td>799.120000</td>\n",
       "      <td>0.000000</td>\n",
       "      <td>NaN</td>\n",
       "      <td>751.000000</td>\n",
       "      <td>3.091407e+03</td>\n",
       "      <td>3.000000</td>\n",
       "      <td>NaN</td>\n",
       "      <td>1.000000</td>\n",
       "      <td>1.788807e+05</td>\n",
       "      <td>74261.250000</td>\n",
       "    </tr>\n",
       "    <tr>\n",
       "      <th>max</th>\n",
       "      <td>NaN</td>\n",
       "      <td>NaN</td>\n",
       "      <td>NaN</td>\n",
       "      <td>65.000000</td>\n",
       "      <td>1.777460e+06</td>\n",
       "      <td>NaN</td>\n",
       "      <td>NaN</td>\n",
       "      <td>NaN</td>\n",
       "      <td>NaN</td>\n",
       "      <td>621497.820000</td>\n",
       "      <td>...</td>\n",
       "      <td>896.260000</td>\n",
       "      <td>1.000000</td>\n",
       "      <td>NaN</td>\n",
       "      <td>999.000000</td>\n",
       "      <td>1.777460e+06</td>\n",
       "      <td>4.000000</td>\n",
       "      <td>NaN</td>\n",
       "      <td>1.000000</td>\n",
       "      <td>1.077967e+06</td>\n",
       "      <td>481907.320000</td>\n",
       "    </tr>\n",
       "  </tbody>\n",
       "</table>\n",
       "<p>11 rows × 24 columns</p>\n",
       "</div>"
      ],
      "text/plain": [
       "       Customer ID           Name Gender           Age  Income (USD)  \\\n",
       "count        30000          30000  29947  30000.000000  2.542400e+04   \n",
       "unique       30000          30000      2           NaN           NaN   \n",
       "top         C-3438  Yang Mcentire      M           NaN           NaN   \n",
       "freq             1              1  15053           NaN           NaN   \n",
       "mean           NaN            NaN    NaN     40.092300  2.630574e+03   \n",
       "std            NaN            NaN    NaN     16.045129  1.126272e+04   \n",
       "min            NaN            NaN    NaN     18.000000  3.777000e+02   \n",
       "25%            NaN            NaN    NaN     25.000000  1.650457e+03   \n",
       "50%            NaN            NaN    NaN     40.000000  2.222435e+03   \n",
       "75%            NaN            NaN    NaN     55.000000  3.090593e+03   \n",
       "max            NaN            NaN    NaN     65.000000  1.777460e+06   \n",
       "\n",
       "       Income Stability Profession Type of Employment    Location  \\\n",
       "count             28317      30000              22730       30000   \n",
       "unique                2          8                 18           3   \n",
       "top                 Low    Working           Laborers  Semi-Urban   \n",
       "freq              25751      16926               5578       21563   \n",
       "mean                NaN        NaN                NaN         NaN   \n",
       "std                 NaN        NaN                NaN         NaN   \n",
       "min                 NaN        NaN                NaN         NaN   \n",
       "25%                 NaN        NaN                NaN         NaN   \n",
       "50%                 NaN        NaN                NaN         NaN   \n",
       "75%                 NaN        NaN                NaN         NaN   \n",
       "max                 NaN        NaN                NaN         NaN   \n",
       "\n",
       "        Loan Amount Request (USD)  ...  Credit Score No. of Defaults  \\\n",
       "count                30000.000000  ...  28297.000000    30000.000000   \n",
       "unique                        NaN  ...           NaN             NaN   \n",
       "top                           NaN  ...           NaN             NaN   \n",
       "freq                          NaN  ...           NaN             NaN   \n",
       "mean                 88826.333855  ...    739.885381        0.193933   \n",
       "std                  59536.949605  ...     72.163846        0.395384   \n",
       "min                   6048.240000  ...    580.000000        0.000000   \n",
       "25%                  41177.755000  ...    681.880000        0.000000   \n",
       "50%                  75128.075000  ...    739.820000        0.000000   \n",
       "75%                 119964.605000  ...    799.120000        0.000000   \n",
       "max                 621497.820000  ...    896.260000        1.000000   \n",
       "\n",
       "       Has Active Credit Card   Property ID  Property Age  Property Type  \\\n",
       "count                   28434  30000.000000  2.515000e+04   30000.000000   \n",
       "unique                      3           NaN           NaN            NaN   \n",
       "top                    Active           NaN           NaN            NaN   \n",
       "freq                     9771           NaN           NaN            NaN   \n",
       "mean                      NaN    501.934700  2.631119e+03       2.460067   \n",
       "std                       NaN    288.158086  1.132268e+04       1.118562   \n",
       "min                       NaN      1.000000  3.777000e+02       1.000000   \n",
       "25%                       NaN    251.000000  1.650450e+03       1.000000   \n",
       "50%                       NaN    504.000000  2.223250e+03       2.000000   \n",
       "75%                       NaN    751.000000  3.091407e+03       3.000000   \n",
       "max                       NaN    999.000000  1.777460e+06       4.000000   \n",
       "\n",
       "       Property Location  Co-Applicant  Property Price  \\\n",
       "count              29644  30000.000000    3.000000e+04   \n",
       "unique                 3           NaN             NaN   \n",
       "top           Semi-Urban           NaN             NaN   \n",
       "freq               10387           NaN             NaN   \n",
       "mean                 NaN     -4.743867    1.317597e+05   \n",
       "std                  NaN     74.614593    9.354955e+04   \n",
       "min                  NaN   -999.000000   -9.990000e+02   \n",
       "25%                  NaN      1.000000    6.057216e+04   \n",
       "50%                  NaN      1.000000    1.099936e+05   \n",
       "75%                  NaN      1.000000    1.788807e+05   \n",
       "max                  NaN      1.000000    1.077967e+06   \n",
       "\n",
       "        Loan Sanction Amount (USD)  \n",
       "count                 29660.000000  \n",
       "unique                         NaN  \n",
       "top                            NaN  \n",
       "freq                           NaN  \n",
       "mean                  47649.342208  \n",
       "std                   48221.146686  \n",
       "min                    -999.000000  \n",
       "25%                       0.000000  \n",
       "50%                   35209.395000  \n",
       "75%                   74261.250000  \n",
       "max                  481907.320000  \n",
       "\n",
       "[11 rows x 24 columns]"
      ]
     },
     "execution_count": 246,
     "metadata": {},
     "output_type": "execute_result"
    }
   ],
   "source": [
    "df.describe(include='all')"
   ]
  },
  {
   "cell_type": "code",
   "execution_count": 247,
   "metadata": {},
   "outputs": [
    {
     "data": {
      "text/plain": [
       "(30000, 24)"
      ]
     },
     "execution_count": 247,
     "metadata": {},
     "output_type": "execute_result"
    }
   ],
   "source": [
    "df.shape"
   ]
  },
  {
   "cell_type": "code",
   "execution_count": 248,
   "metadata": {},
   "outputs": [],
   "source": [
    "df_test=pd.read_csv('dataset/test.csv')\n"
   ]
  },
  {
   "cell_type": "code",
   "execution_count": 249,
   "metadata": {},
   "outputs": [
    {
     "data": {
      "text/plain": [
       "(20000, 23)"
      ]
     },
     "execution_count": 249,
     "metadata": {},
     "output_type": "execute_result"
    }
   ],
   "source": [
    "df_test.shape"
   ]
  },
  {
   "cell_type": "code",
   "execution_count": 250,
   "metadata": {},
   "outputs": [
    {
     "data": {
      "text/plain": [
       "Customer ID                       0\n",
       "Name                              0\n",
       "Gender                           31\n",
       "Age                               0\n",
       "Income (USD)                    750\n",
       "Income Stability                813\n",
       "Profession                        0\n",
       "Type of Employment             4689\n",
       "Location                          0\n",
       "Loan Amount Request (USD)         0\n",
       "Current Loan Expenses (USD)      83\n",
       "Expense Type 1                    0\n",
       "Expense Type 2                    0\n",
       "Dependents                     1142\n",
       "Credit Score                    743\n",
       "No. of Defaults                   0\n",
       "Has Active Credit Card         1076\n",
       "Property ID                       0\n",
       "Property Age                    892\n",
       "Property Type                     0\n",
       "Property Location               160\n",
       "Co-Applicant                      0\n",
       "Property Price                    0\n",
       "dtype: int64"
      ]
     },
     "execution_count": 250,
     "metadata": {},
     "output_type": "execute_result"
    }
   ],
   "source": [
    "df_test.isnull().sum()"
   ]
  },
  {
   "cell_type": "code",
   "execution_count": 251,
   "metadata": {},
   "outputs": [
    {
     "name": "stdout",
     "output_type": "stream",
     "text": [
      "<class 'pandas.core.frame.DataFrame'>\n",
      "RangeIndex: 30000 entries, 0 to 29999\n",
      "Data columns (total 24 columns):\n",
      " #   Column                       Non-Null Count  Dtype  \n",
      "---  ------                       --------------  -----  \n",
      " 0   Customer ID                  30000 non-null  object \n",
      " 1   Name                         30000 non-null  object \n",
      " 2   Gender                       29947 non-null  object \n",
      " 3   Age                          30000 non-null  int64  \n",
      " 4   Income (USD)                 25424 non-null  float64\n",
      " 5   Income Stability             28317 non-null  object \n",
      " 6   Profession                   30000 non-null  object \n",
      " 7   Type of Employment           22730 non-null  object \n",
      " 8   Location                     30000 non-null  object \n",
      " 9   Loan Amount Request (USD)    30000 non-null  float64\n",
      " 10  Current Loan Expenses (USD)  29828 non-null  float64\n",
      " 11  Expense Type 1               30000 non-null  object \n",
      " 12  Expense Type 2               30000 non-null  object \n",
      " 13  Dependents                   27507 non-null  float64\n",
      " 14  Credit Score                 28297 non-null  float64\n",
      " 15  No. of Defaults              30000 non-null  int64  \n",
      " 16  Has Active Credit Card       28434 non-null  object \n",
      " 17  Property ID                  30000 non-null  int64  \n",
      " 18  Property Age                 25150 non-null  float64\n",
      " 19  Property Type                30000 non-null  int64  \n",
      " 20  Property Location            29644 non-null  object \n",
      " 21  Co-Applicant                 30000 non-null  int64  \n",
      " 22  Property Price               30000 non-null  float64\n",
      " 23  Loan Sanction Amount (USD)   29660 non-null  float64\n",
      "dtypes: float64(8), int64(5), object(11)\n",
      "memory usage: 5.5+ MB\n"
     ]
    }
   ],
   "source": [
    "df.info()"
   ]
  },
  {
   "cell_type": "code",
   "execution_count": 252,
   "metadata": {},
   "outputs": [
    {
     "data": {
      "text/plain": [
       "Customer ID                       0\n",
       "Name                              0\n",
       "Gender                           53\n",
       "Age                               0\n",
       "Income (USD)                   4576\n",
       "Income Stability               1683\n",
       "Profession                        0\n",
       "Type of Employment             7270\n",
       "Location                          0\n",
       "Loan Amount Request (USD)         0\n",
       "Current Loan Expenses (USD)     172\n",
       "Expense Type 1                    0\n",
       "Expense Type 2                    0\n",
       "Dependents                     2493\n",
       "Credit Score                   1703\n",
       "No. of Defaults                   0\n",
       "Has Active Credit Card         1566\n",
       "Property ID                       0\n",
       "Property Age                   4850\n",
       "Property Type                     0\n",
       "Property Location               356\n",
       "Co-Applicant                      0\n",
       "Property Price                    0\n",
       "Loan Sanction Amount (USD)      340\n",
       "dtype: int64"
      ]
     },
     "execution_count": 252,
     "metadata": {},
     "output_type": "execute_result"
    }
   ],
   "source": [
    "df.isnull().sum()"
   ]
  },
  {
   "cell_type": "code",
   "execution_count": 253,
   "metadata": {},
   "outputs": [],
   "source": [
    "df.dropna(axis=0,how='any',thresh=None,subset=['Loan Sanction Amount (USD)'],inplace=True)\n",
    "df['Gender'].fillna(df['Gender'].mode()[0],inplace=True)\n",
    "df['Income (USD)'].fillna(df['Income (USD)'].median(),inplace=True)\n",
    "df['Income Stability'].fillna(df['Income Stability'].mode()[0],inplace=True)\n",
    "df['Type of Employment'].fillna(df['Type of Employment'].mode()[0],inplace=True)\n",
    "df['Current Loan Expenses (USD)'].fillna(df['Current Loan Expenses (USD)'].median(),inplace=True)\n",
    "df['Credit Score'].fillna(df['Credit Score'].median(),inplace=True)\n",
    "df['Dependents'].fillna(df['Dependents'].median(),inplace=True)\n",
    "df['Has Active Credit Card'].fillna(df['Has Active Credit Card'].mode([0]),inplace=True)\n",
    "df['Property Age'].fillna(df['Property Age'].median(),inplace=True)\n",
    "df['Property Location'].fillna(df['Property Location'].mode()[0],inplace=True)"
   ]
  },
  {
   "cell_type": "code",
   "execution_count": 254,
   "metadata": {},
   "outputs": [],
   "source": [
    "df_test['Gender'].fillna(df['Gender'].mode()[0],inplace=True)\n",
    "df_test['Income (USD)'].fillna(df['Income (USD)'].median(),inplace=True)\n",
    "df_test['Income Stability'].fillna(df['Income Stability'].mode()[0],inplace=True)\n",
    "df_test['Type of Employment'].fillna(df['Type of Employment'].mode()[0],inplace=True)\n",
    "df_test['Current Loan Expenses (USD)'].fillna(df['Current Loan Expenses (USD)'].median(),inplace=True)\n",
    "df_test['Credit Score'].fillna(df['Credit Score'].median(),inplace=True)\n",
    "df_test['Dependents'].fillna(df['Dependents'].median(),inplace=True)\n",
    "df_test['Has Active Credit Card'].fillna(df['Has Active Credit Card'].mode()[0],inplace=True)\n",
    "df_test['Property Age'].fillna(df['Property Age'].median(),inplace=True)\n",
    "df_test['Property Location'].fillna(df['Property Location'].mode()[0],inplace=True)"
   ]
  },
  {
   "cell_type": "code",
   "execution_count": 255,
   "metadata": {},
   "outputs": [
    {
     "data": {
      "text/plain": [
       "Customer ID                       0\n",
       "Name                              0\n",
       "Gender                            0\n",
       "Age                               0\n",
       "Income (USD)                      0\n",
       "Income Stability                  0\n",
       "Profession                        0\n",
       "Type of Employment                0\n",
       "Location                          0\n",
       "Loan Amount Request (USD)         0\n",
       "Current Loan Expenses (USD)       0\n",
       "Expense Type 1                    0\n",
       "Expense Type 2                    0\n",
       "Dependents                        0\n",
       "Credit Score                      0\n",
       "No. of Defaults                   0\n",
       "Has Active Credit Card         1545\n",
       "Property ID                       0\n",
       "Property Age                      0\n",
       "Property Type                     0\n",
       "Property Location                 0\n",
       "Co-Applicant                      0\n",
       "Property Price                    0\n",
       "Loan Sanction Amount (USD)        0\n",
       "dtype: int64"
      ]
     },
     "execution_count": 255,
     "metadata": {},
     "output_type": "execute_result"
    }
   ],
   "source": [
    "df.isna().sum()"
   ]
  },
  {
   "cell_type": "code",
   "execution_count": 256,
   "metadata": {},
   "outputs": [
    {
     "data": {
      "text/plain": [
       "Customer ID                    0\n",
       "Name                           0\n",
       "Gender                         0\n",
       "Age                            0\n",
       "Income (USD)                   0\n",
       "Income Stability               0\n",
       "Profession                     0\n",
       "Type of Employment             0\n",
       "Location                       0\n",
       "Loan Amount Request (USD)      0\n",
       "Current Loan Expenses (USD)    0\n",
       "Expense Type 1                 0\n",
       "Expense Type 2                 0\n",
       "Dependents                     0\n",
       "Credit Score                   0\n",
       "No. of Defaults                0\n",
       "Has Active Credit Card         0\n",
       "Property ID                    0\n",
       "Property Age                   0\n",
       "Property Type                  0\n",
       "Property Location              0\n",
       "Co-Applicant                   0\n",
       "Property Price                 0\n",
       "dtype: int64"
      ]
     },
     "execution_count": 256,
     "metadata": {},
     "output_type": "execute_result"
    }
   ],
   "source": [
    "df_test.isna().sum()"
   ]
  },
  {
   "cell_type": "code",
   "execution_count": 257,
   "metadata": {},
   "outputs": [],
   "source": [
    "def f(col):\n",
    "    li=df[col].unique()\n",
    "    dic={}\n",
    "    j=0\n",
    "    for i in li:\n",
    "        dic[i]=j\n",
    "        j+=1\n",
    "    df[col]=df[col].map(dic)\n",
    "    return dic"
   ]
  },
  {
   "cell_type": "code",
   "execution_count": 258,
   "metadata": {},
   "outputs": [],
   "source": [
    "customer_id_dic=f('Customer ID')\n",
    "name_dic=f('Name')\n",
    "gender_dic=f('Gender')\n",
    "income_stability_dic=f('Income Stability')\n",
    "profession_dic=f('Profession')\n",
    "type_of_employement_dic=f('Type of Employment')\n",
    "location_dic=f('Location')\n",
    "exp_1_dic=f('Expense Type 1')\n",
    "exp_2_dic=f('Expense Type 2')\n",
    "has_active_dic=f('Has Active Credit Card')\n",
    "property_loc_dic=f('Property Location')"
   ]
  },
  {
   "cell_type": "code",
   "execution_count": 259,
   "metadata": {},
   "outputs": [
    {
     "name": "stdout",
     "output_type": "stream",
     "text": [
      "<class 'pandas.core.frame.DataFrame'>\n",
      "RangeIndex: 20000 entries, 0 to 19999\n",
      "Data columns (total 23 columns):\n",
      " #   Column                       Non-Null Count  Dtype  \n",
      "---  ------                       --------------  -----  \n",
      " 0   Customer ID                  20000 non-null  object \n",
      " 1   Name                         20000 non-null  object \n",
      " 2   Gender                       20000 non-null  object \n",
      " 3   Age                          20000 non-null  int64  \n",
      " 4   Income (USD)                 20000 non-null  float64\n",
      " 5   Income Stability             20000 non-null  object \n",
      " 6   Profession                   20000 non-null  object \n",
      " 7   Type of Employment           20000 non-null  object \n",
      " 8   Location                     20000 non-null  object \n",
      " 9   Loan Amount Request (USD)    20000 non-null  float64\n",
      " 10  Current Loan Expenses (USD)  20000 non-null  float64\n",
      " 11  Expense Type 1               20000 non-null  object \n",
      " 12  Expense Type 2               20000 non-null  object \n",
      " 13  Dependents                   20000 non-null  float64\n",
      " 14  Credit Score                 20000 non-null  float64\n",
      " 15  No. of Defaults              20000 non-null  int64  \n",
      " 16  Has Active Credit Card       20000 non-null  object \n",
      " 17  Property ID                  20000 non-null  int64  \n",
      " 18  Property Age                 20000 non-null  float64\n",
      " 19  Property Type                20000 non-null  int64  \n",
      " 20  Property Location            20000 non-null  object \n",
      " 21  Co-Applicant                 20000 non-null  object \n",
      " 22  Property Price               20000 non-null  object \n",
      "dtypes: float64(6), int64(4), object(13)\n",
      "memory usage: 3.5+ MB\n"
     ]
    }
   ],
   "source": [
    "df_test.info()"
   ]
  },
  {
   "cell_type": "code",
   "execution_count": 260,
   "metadata": {},
   "outputs": [
    {
     "data": {
      "text/plain": [
       "0         236644.5\n",
       "1         142357.3\n",
       "2        300991.24\n",
       "3         125612.1\n",
       "4         180908.0\n",
       "           ...    \n",
       "19995     212778.0\n",
       "19996     90816.95\n",
       "19997     21566.27\n",
       "19998    120281.17\n",
       "19999    133425.43\n",
       "Name: Property Price, Length: 20000, dtype: object"
      ]
     },
     "execution_count": 260,
     "metadata": {},
     "output_type": "execute_result"
    }
   ],
   "source": [
    "df_test['Property Price']"
   ]
  },
  {
   "cell_type": "code",
   "execution_count": 261,
   "metadata": {},
   "outputs": [],
   "source": [
    "def ftest(col,dic):\n",
    "    t={}\n",
    "    j=df[col].nunique()\n",
    "    for i in df_test[col].unique():\n",
    "        if i in dic:\n",
    "            t[i]=dic[i]\n",
    "        else:\n",
    "            t[i]=j\n",
    "            j+=1\n",
    "    df_test[col]=df_test[col].map(t)"
   ]
  },
  {
   "cell_type": "code",
   "execution_count": 262,
   "metadata": {},
   "outputs": [],
   "source": [
    "ftest('Name',name_dic)\n",
    "ftest('Gender',gender_dic)\n",
    "ftest('Income Stability',income_stability_dic)\n",
    "ftest('Profession',profession_dic)\n",
    "ftest('Type of Employment',type_of_employement_dic)\n",
    "ftest('Location',location_dic)\n",
    "ftest('Expense Type 1',exp_1_dic)\n",
    "ftest('Expense Type 2',exp_2_dic)\n",
    "ftest('Has Active Credit Card',has_active_dic)\n",
    "ftest('Property Location',property_loc_dic)"
   ]
  },
  {
   "cell_type": "code",
   "execution_count": 263,
   "metadata": {},
   "outputs": [
    {
     "data": {
      "text/plain": [
       "Customer ID                    0\n",
       "Name                           0\n",
       "Gender                         0\n",
       "Age                            0\n",
       "Income (USD)                   0\n",
       "Income Stability               0\n",
       "Profession                     0\n",
       "Type of Employment             0\n",
       "Location                       0\n",
       "Loan Amount Request (USD)      0\n",
       "Current Loan Expenses (USD)    0\n",
       "Expense Type 1                 0\n",
       "Expense Type 2                 0\n",
       "Dependents                     0\n",
       "Credit Score                   0\n",
       "No. of Defaults                0\n",
       "Has Active Credit Card         0\n",
       "Property ID                    0\n",
       "Property Age                   0\n",
       "Property Type                  0\n",
       "Property Location              0\n",
       "Co-Applicant                   0\n",
       "Property Price                 0\n",
       "dtype: int64"
      ]
     },
     "execution_count": 263,
     "metadata": {},
     "output_type": "execute_result"
    }
   ],
   "source": [
    "df_test.isna().sum()"
   ]
  },
  {
   "cell_type": "code",
   "execution_count": 264,
   "metadata": {},
   "outputs": [],
   "source": [
    "X=df.drop(columns=['Customer ID','Name','Property ID','Loan Sanction Amount (USD)'],axis=1)\n",
    "y=df['Loan Sanction Amount (USD)']"
   ]
  },
  {
   "cell_type": "code",
   "execution_count": 265,
   "metadata": {},
   "outputs": [],
   "source": [
    "from sklearn.model_selection import train_test_split\n",
    "X_train,X_test,y_train,y_test=train_test_split(X,y,test_size=0.3,shuffle=True)"
   ]
  },
  {
   "cell_type": "code",
   "execution_count": 266,
   "metadata": {},
   "outputs": [],
   "source": [
    "from sklearn.ensemble import GradientBoostingRegressor\n",
    "gbr=GradientBoostingRegressor()    "
   ]
  },
  {
   "cell_type": "code",
   "execution_count": 267,
   "metadata": {},
   "outputs": [
    {
     "data": {
      "text/plain": [
       "GradientBoostingRegressor()"
      ]
     },
     "execution_count": 267,
     "metadata": {},
     "output_type": "execute_result"
    }
   ],
   "source": [
    "gbr.fit(X_train,y_train)"
   ]
  },
  {
   "cell_type": "code",
   "execution_count": 268,
   "metadata": {},
   "outputs": [
    {
     "data": {
      "text/plain": [
       "78.95063462095877"
      ]
     },
     "execution_count": 268,
     "metadata": {},
     "output_type": "execute_result"
    }
   ],
   "source": [
    "gbr.score(X_train,y_train)*100"
   ]
  },
  {
   "cell_type": "code",
   "execution_count": 269,
   "metadata": {},
   "outputs": [
    {
     "data": {
      "text/plain": [
       "74.1367013111898"
      ]
     },
     "execution_count": 269,
     "metadata": {},
     "output_type": "execute_result"
    }
   ],
   "source": [
    "gbr.score(X_test,y_test)*100"
   ]
  },
  {
   "cell_type": "code",
   "execution_count": 270,
   "metadata": {},
   "outputs": [
    {
     "data": {
      "text/plain": [
       "GradientBoostingRegressor()"
      ]
     },
     "execution_count": 270,
     "metadata": {},
     "output_type": "execute_result"
    }
   ],
   "source": [
    "gbr.fit(X,y)"
   ]
  },
  {
   "cell_type": "code",
   "execution_count": 271,
   "metadata": {},
   "outputs": [
    {
     "data": {
      "text/plain": [
       "77.73745065963476"
      ]
     },
     "execution_count": 271,
     "metadata": {},
     "output_type": "execute_result"
    }
   ],
   "source": [
    "gbr.score(X,y)*100"
   ]
  },
  {
   "cell_type": "code",
   "execution_count": 272,
   "metadata": {},
   "outputs": [],
   "source": [
    "data={}"
   ]
  },
  {
   "cell_type": "code",
   "execution_count": 273,
   "metadata": {},
   "outputs": [
    {
     "name": "stdout",
     "output_type": "stream",
     "text": [
      "<class 'pandas.core.frame.DataFrame'>\n",
      "RangeIndex: 20000 entries, 0 to 19999\n",
      "Data columns (total 23 columns):\n",
      " #   Column                       Non-Null Count  Dtype  \n",
      "---  ------                       --------------  -----  \n",
      " 0   Customer ID                  20000 non-null  object \n",
      " 1   Name                         20000 non-null  int64  \n",
      " 2   Gender                       20000 non-null  int64  \n",
      " 3   Age                          20000 non-null  int64  \n",
      " 4   Income (USD)                 20000 non-null  float64\n",
      " 5   Income Stability             20000 non-null  int64  \n",
      " 6   Profession                   20000 non-null  int64  \n",
      " 7   Type of Employment           20000 non-null  int64  \n",
      " 8   Location                     20000 non-null  int64  \n",
      " 9   Loan Amount Request (USD)    20000 non-null  float64\n",
      " 10  Current Loan Expenses (USD)  20000 non-null  float64\n",
      " 11  Expense Type 1               20000 non-null  int64  \n",
      " 12  Expense Type 2               20000 non-null  int64  \n",
      " 13  Dependents                   20000 non-null  float64\n",
      " 14  Credit Score                 20000 non-null  float64\n",
      " 15  No. of Defaults              20000 non-null  int64  \n",
      " 16  Has Active Credit Card       20000 non-null  int64  \n",
      " 17  Property ID                  20000 non-null  int64  \n",
      " 18  Property Age                 20000 non-null  float64\n",
      " 19  Property Type                20000 non-null  int64  \n",
      " 20  Property Location            20000 non-null  int64  \n",
      " 21  Co-Applicant                 20000 non-null  object \n",
      " 22  Property Price               20000 non-null  object \n",
      "dtypes: float64(6), int64(14), object(3)\n",
      "memory usage: 3.5+ MB\n"
     ]
    }
   ],
   "source": [
    "df_test.info()"
   ]
  },
  {
   "cell_type": "code",
   "execution_count": 274,
   "metadata": {},
   "outputs": [
    {
     "data": {
      "text/plain": [
       "1    17004\n",
       "0     2919\n",
       "?       77\n",
       "Name: Co-Applicant, dtype: int64"
      ]
     },
     "execution_count": 274,
     "metadata": {},
     "output_type": "execute_result"
    }
   ],
   "source": [
    "df_test['Co-Applicant'].value_counts()"
   ]
  },
  {
   "cell_type": "code",
   "execution_count": 275,
   "metadata": {},
   "outputs": [
    {
     "data": {
      "text/plain": [
       "?            168\n",
       "37220.06       2\n",
       "77441.22       2\n",
       "197833.75      2\n",
       "60060.83       2\n",
       "            ... \n",
       "14200.98       1\n",
       "98220.84       1\n",
       "192924.06      1\n",
       "73174.73       1\n",
       "14855.29       1\n",
       "Name: Property Price, Length: 19824, dtype: int64"
      ]
     },
     "execution_count": 275,
     "metadata": {},
     "output_type": "execute_result"
    }
   ],
   "source": [
    "df_test['Property Price'].value_counts()"
   ]
  },
  {
   "cell_type": "code",
   "execution_count": 276,
   "metadata": {},
   "outputs": [],
   "source": [
    "df_test.loc[df_test['Co-Applicant']=='?','Co-Applicant']=str(1)\n",
    "df_test.loc[df_test['Property Price']=='?','Property Price']=df['Property Price'].median()"
   ]
  },
  {
   "cell_type": "code",
   "execution_count": 277,
   "metadata": {},
   "outputs": [
    {
     "name": "stdout",
     "output_type": "stream",
     "text": [
      "<class 'pandas.core.frame.DataFrame'>\n",
      "Int64Index: 29660 entries, 0 to 29999\n",
      "Data columns (total 24 columns):\n",
      " #   Column                       Non-Null Count  Dtype  \n",
      "---  ------                       --------------  -----  \n",
      " 0   Customer ID                  29660 non-null  int64  \n",
      " 1   Name                         29660 non-null  int64  \n",
      " 2   Gender                       29660 non-null  int64  \n",
      " 3   Age                          29660 non-null  int64  \n",
      " 4   Income (USD)                 29660 non-null  float64\n",
      " 5   Income Stability             29660 non-null  int64  \n",
      " 6   Profession                   29660 non-null  int64  \n",
      " 7   Type of Employment           29660 non-null  int64  \n",
      " 8   Location                     29660 non-null  int64  \n",
      " 9   Loan Amount Request (USD)    29660 non-null  float64\n",
      " 10  Current Loan Expenses (USD)  29660 non-null  float64\n",
      " 11  Expense Type 1               29660 non-null  int64  \n",
      " 12  Expense Type 2               29660 non-null  int64  \n",
      " 13  Dependents                   29660 non-null  float64\n",
      " 14  Credit Score                 29660 non-null  float64\n",
      " 15  No. of Defaults              29660 non-null  int64  \n",
      " 16  Has Active Credit Card       29660 non-null  int64  \n",
      " 17  Property ID                  29660 non-null  int64  \n",
      " 18  Property Age                 29660 non-null  float64\n",
      " 19  Property Type                29660 non-null  int64  \n",
      " 20  Property Location            29660 non-null  int64  \n",
      " 21  Co-Applicant                 29660 non-null  int64  \n",
      " 22  Property Price               29660 non-null  float64\n",
      " 23  Loan Sanction Amount (USD)   29660 non-null  float64\n",
      "dtypes: float64(8), int64(16)\n",
      "memory usage: 5.7 MB\n"
     ]
    }
   ],
   "source": [
    "df.info()"
   ]
  },
  {
   "cell_type": "code",
   "execution_count": 278,
   "metadata": {},
   "outputs": [],
   "source": [
    "df_test['Co-Applicant']=df_test['Co-Applicant'].astype('int64')\n",
    "df_test['Property Price']=df_test['Property Price'].astype('float64')"
   ]
  },
  {
   "cell_type": "code",
   "execution_count": 279,
   "metadata": {},
   "outputs": [
    {
     "name": "stdout",
     "output_type": "stream",
     "text": [
      "<class 'pandas.core.frame.DataFrame'>\n",
      "RangeIndex: 20000 entries, 0 to 19999\n",
      "Data columns (total 23 columns):\n",
      " #   Column                       Non-Null Count  Dtype  \n",
      "---  ------                       --------------  -----  \n",
      " 0   Customer ID                  20000 non-null  object \n",
      " 1   Name                         20000 non-null  int64  \n",
      " 2   Gender                       20000 non-null  int64  \n",
      " 3   Age                          20000 non-null  int64  \n",
      " 4   Income (USD)                 20000 non-null  float64\n",
      " 5   Income Stability             20000 non-null  int64  \n",
      " 6   Profession                   20000 non-null  int64  \n",
      " 7   Type of Employment           20000 non-null  int64  \n",
      " 8   Location                     20000 non-null  int64  \n",
      " 9   Loan Amount Request (USD)    20000 non-null  float64\n",
      " 10  Current Loan Expenses (USD)  20000 non-null  float64\n",
      " 11  Expense Type 1               20000 non-null  int64  \n",
      " 12  Expense Type 2               20000 non-null  int64  \n",
      " 13  Dependents                   20000 non-null  float64\n",
      " 14  Credit Score                 20000 non-null  float64\n",
      " 15  No. of Defaults              20000 non-null  int64  \n",
      " 16  Has Active Credit Card       20000 non-null  int64  \n",
      " 17  Property ID                  20000 non-null  int64  \n",
      " 18  Property Age                 20000 non-null  float64\n",
      " 19  Property Type                20000 non-null  int64  \n",
      " 20  Property Location            20000 non-null  int64  \n",
      " 21  Co-Applicant                 20000 non-null  int64  \n",
      " 22  Property Price               20000 non-null  float64\n",
      "dtypes: float64(7), int64(15), object(1)\n",
      "memory usage: 3.5+ MB\n"
     ]
    }
   ],
   "source": [
    "df_test.info()"
   ]
  },
  {
   "cell_type": "code",
   "execution_count": 280,
   "metadata": {},
   "outputs": [],
   "source": [
    "submission=pd.DataFrame({'Customer ID':df_test['Customer ID'],'Loan Sanction Amount (USD)':gbr.predict(df_test.drop(columns=['Customer ID','Name','Property ID'],axis=1))})"
   ]
  },
  {
   "cell_type": "code",
   "execution_count": 281,
   "metadata": {},
   "outputs": [
    {
     "data": {
      "text/html": [
       "<div>\n",
       "<style scoped>\n",
       "    .dataframe tbody tr th:only-of-type {\n",
       "        vertical-align: middle;\n",
       "    }\n",
       "\n",
       "    .dataframe tbody tr th {\n",
       "        vertical-align: top;\n",
       "    }\n",
       "\n",
       "    .dataframe thead th {\n",
       "        text-align: right;\n",
       "    }\n",
       "</style>\n",
       "<table border=\"1\" class=\"dataframe\">\n",
       "  <thead>\n",
       "    <tr style=\"text-align: right;\">\n",
       "      <th></th>\n",
       "      <th>Customer ID</th>\n",
       "      <th>Loan Sanction Amount (USD)</th>\n",
       "    </tr>\n",
       "  </thead>\n",
       "  <tbody>\n",
       "    <tr>\n",
       "      <th>0</th>\n",
       "      <td>C-26247</td>\n",
       "      <td>86580.613508</td>\n",
       "    </tr>\n",
       "    <tr>\n",
       "      <th>1</th>\n",
       "      <td>C-35067</td>\n",
       "      <td>65106.661035</td>\n",
       "    </tr>\n",
       "    <tr>\n",
       "      <th>2</th>\n",
       "      <td>C-34590</td>\n",
       "      <td>17989.340760</td>\n",
       "    </tr>\n",
       "    <tr>\n",
       "      <th>3</th>\n",
       "      <td>C-16668</td>\n",
       "      <td>46405.248509</td>\n",
       "    </tr>\n",
       "    <tr>\n",
       "      <th>4</th>\n",
       "      <td>C-12196</td>\n",
       "      <td>67265.705653</td>\n",
       "    </tr>\n",
       "  </tbody>\n",
       "</table>\n",
       "</div>"
      ],
      "text/plain": [
       "  Customer ID  Loan Sanction Amount (USD)\n",
       "0     C-26247                86580.613508\n",
       "1     C-35067                65106.661035\n",
       "2     C-34590                17989.340760\n",
       "3     C-16668                46405.248509\n",
       "4     C-12196                67265.705653"
      ]
     },
     "execution_count": 281,
     "metadata": {},
     "output_type": "execute_result"
    }
   ],
   "source": [
    "submission.head()"
   ]
  },
  {
   "cell_type": "code",
   "execution_count": 282,
   "metadata": {},
   "outputs": [
    {
     "data": {
      "text/plain": [
       "(20000, 2)"
      ]
     },
     "execution_count": 282,
     "metadata": {},
     "output_type": "execute_result"
    }
   ],
   "source": [
    "submission.shape"
   ]
  },
  {
   "cell_type": "code",
   "execution_count": 283,
   "metadata": {},
   "outputs": [],
   "source": [
    "submission.to_csv('submission.csv',index=False)"
   ]
  }
 ],
 "metadata": {
  "kernelspec": {
   "display_name": "Python 3",
   "language": "python",
   "name": "python3"
  },
  "language_info": {
   "codemirror_mode": {
    "name": "ipython",
    "version": 3
   },
   "file_extension": ".py",
   "mimetype": "text/x-python",
   "name": "python",
   "nbconvert_exporter": "python",
   "pygments_lexer": "ipython3",
   "version": "3.8.5"
  }
 },
 "nbformat": 4,
 "nbformat_minor": 4
}
